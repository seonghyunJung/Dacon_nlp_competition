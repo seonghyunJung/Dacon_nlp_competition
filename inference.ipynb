{
 "cells": [
  {
   "cell_type": "code",
   "execution_count": null,
   "id": "c6fad097",
   "metadata": {},
   "outputs": [],
   "source": [
    "import os\n",
    "os.environ[\"CUDA_DEVICE_ORDER\"]=\"PCI_BUS_ID\"\n",
    "os.environ[\"CUDA_VISIBLE_DEVICES\"]=\"0\""
   ]
  },
  {
   "cell_type": "code",
   "execution_count": null,
   "id": "cb1fb997",
   "metadata": {},
   "outputs": [],
   "source": [
    "from transformers import AutoTokenizer, AutoModelForSequenceClassification\n",
    "import datasets\n",
    "from transformers import pipeline\n",
    "from transformers.pipelines.pt_utils import KeyDataset\n",
    "from tqdm.notebook import tqdm"
   ]
  },
  {
   "cell_type": "code",
   "execution_count": null,
   "id": "42ee4aa6",
   "metadata": {},
   "outputs": [],
   "source": [
    "!nvidia-smi"
   ]
  },
  {
   "cell_type": "code",
   "execution_count": null,
   "id": "44263566",
   "metadata": {},
   "outputs": [],
   "source": [
    "!kill -9 3615"
   ]
  },
  {
   "cell_type": "markdown",
   "id": "003311aa",
   "metadata": {},
   "source": [
    "# 1. Path"
   ]
  },
  {
   "cell_type": "code",
   "execution_count": null,
   "id": "f36e5489",
   "metadata": {},
   "outputs": [],
   "source": [
    "paths = {\n",
    "    \"유형\": [\"results/type/2022-12-22_205334/checkpoint-1856\",\"kykim/electra-kor-base\"],\n",
    "    \"극성\": [\"results/polarity/2022-12-22_223149/checkpoint-696\",\"kykim/electra-kor-base\"],\n",
    "    \"시제\": [\"results/tense/2022-12-22_205421/checkpoint-464\",\"kykim/electra-kor-base\"],\n",
    "    \"확실성\": [\"results/certainty/2022-12-22_223359/checkpoint-464\",\"kykim/electra-kor-base\"],\n",
    "}"
   ]
  },
  {
   "cell_type": "markdown",
   "id": "cffaa476",
   "metadata": {},
   "source": [
    "# 2. Data"
   ]
  },
  {
   "cell_type": "code",
   "execution_count": null,
   "id": "14b02918",
   "metadata": {},
   "outputs": [],
   "source": [
    "!cp ../Dacon_Ryan/dataset/test.csv dataset/result.csv"
   ]
  },
  {
   "cell_type": "code",
   "execution_count": null,
   "id": "95b44a2d",
   "metadata": {},
   "outputs": [],
   "source": [
    "import datasets\n",
    "from transformers import pipeline\n",
    "from transformers.pipelines.pt_utils import KeyDataset\n",
    "from tqdm.notebook import tqdm\n",
    "from datasets import load_dataset\n",
    "\n",
    "tds = load_dataset(\n",
    "    \"csv\",\n",
    "    data_files={\"predict\": \"dataset/result.csv\"}\n",
    ")"
   ]
  },
  {
   "cell_type": "code",
   "execution_count": null,
   "id": "054d0329",
   "metadata": {},
   "outputs": [],
   "source": [
    "def inference(model, tokenizer, category):\n",
    "    pipe = pipeline(\"text-classification\", model=model, tokenizer = tokenizer, device=0)\n",
    "    result = []\n",
    "    for out in tqdm(pipe(KeyDataset(tds[\"predict\"], \"문장\"), batch_size=64)):\n",
    "        result.append(out[\"label\"])\n",
    "    return result"
   ]
  },
  {
   "cell_type": "code",
   "execution_count": null,
   "id": "9a310ca1",
   "metadata": {},
   "outputs": [],
   "source": [
    "for category, (pretrained_model_name_or_path, plm) in paths.items():\n",
    "    tokenizer = AutoTokenizer.from_pretrained(plm)\n",
    "    model = AutoModelForSequenceClassification.from_pretrained(pretrained_model_name_or_path)\n",
    "    result = inference(model, tokenizer, category)\n",
    "    tds[\"predict\"] = tds[\"predict\"].add_column(name=category, column=result)"
   ]
  },
  {
   "cell_type": "code",
   "execution_count": null,
   "id": "7e9d745a",
   "metadata": {},
   "outputs": [],
   "source": [
    "label = [\"-\".join(x) for x in zip(tds[\"predict\"][\"유형\"], tds[\"predict\"][\"극성\"], tds[\"predict\"][\"시제\"], tds[\"predict\"][\"확실성\"])]\n",
    "tds[\"predict\"] = tds[\"predict\"].add_column(name=\"label\", column=label)\n",
    "# tds[\"predict\"] = tds[\"predict\"].map(lambda: \"-\".join(batch[\"유형\"], batch[\"극성\"], batch[\"시제\"], batch[\"확신성\"], remove_columns=list(paths.keys())))"
   ]
  },
  {
   "cell_type": "code",
   "execution_count": null,
   "id": "b2ff8e4b",
   "metadata": {},
   "outputs": [],
   "source": [
    "tds[\"predict\"][1]"
   ]
  },
  {
   "cell_type": "code",
   "execution_count": null,
   "id": "ece3fcad",
   "metadata": {},
   "outputs": [],
   "source": [
    "tds['predict'][1]"
   ]
  },
  {
   "cell_type": "code",
   "execution_count": null,
   "id": "09991c1b",
   "metadata": {},
   "outputs": [],
   "source": [
    "import pandas as pd\n",
    "\n",
    "df = pd.DataFrame.from_dict({'ID': tds['predict']['ID'], 'label' : tds['predict']['label']})\n",
    "df.head()"
   ]
  },
  {
   "cell_type": "code",
   "execution_count": null,
   "id": "83d493e8",
   "metadata": {},
   "outputs": [],
   "source": [
    "df"
   ]
  },
  {
   "cell_type": "code",
   "execution_count": null,
   "id": "f6711846",
   "metadata": {},
   "outputs": [],
   "source": [
    "df.to_csv(\"submission_ryan.csv\", encoding=\"utf-8-sig\", index=False)"
   ]
  },
  {
   "cell_type": "code",
   "execution_count": null,
   "id": "a3c15f58",
   "metadata": {},
   "outputs": [],
   "source": []
  }
 ],
 "metadata": {
  "kernelspec": {
   "display_name": "py38",
   "language": "python",
   "name": "py38"
  },
  "language_info": {
   "codemirror_mode": {
    "name": "ipython",
    "version": 3
   },
   "file_extension": ".py",
   "mimetype": "text/x-python",
   "name": "python",
   "nbconvert_exporter": "python",
   "pygments_lexer": "ipython3",
   "version": "3.8.15"
  }
 },
 "nbformat": 4,
 "nbformat_minor": 5
}
